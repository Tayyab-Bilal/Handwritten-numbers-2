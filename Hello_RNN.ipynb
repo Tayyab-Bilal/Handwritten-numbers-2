{
  "nbformat": 4,
  "nbformat_minor": 0,
  "metadata": {
    "accelerator": "GPU",
    "colab": {
      "name": "Hello_RNN",
      "provenance": [],
      "collapsed_sections": []
    },
    "kernelspec": {
      "display_name": "Python 3",
      "name": "python3"
    },
    "language_info": {
      "name": "python"
    }
  },
  "cells": [
    {
      "cell_type": "code",
      "metadata": {
        "colab": {
          "base_uri": "https://localhost:8080/"
        },
        "id": "3PeWWgEQtbvg",
        "outputId": "900f44bd-8501-4af4-8e66-295e557b54b3"
      },
      "source": [
        "!pip install --upgrade keras\n",
        "\n",
        "#And for Tensorflow-2: You can just use LSTM with no activation function and it will automatically use the CuDNN version \n",
        "#https://stackoverflow.com/questions/47857437/keras-importerror-cannot-import-name-cudnnlstm"
      ],
      "execution_count": null,
      "outputs": [
        {
          "output_type": "stream",
          "name": "stdout",
          "text": [
            "Requirement already satisfied: keras in /usr/local/lib/python3.7/dist-packages (2.7.0)\n"
          ]
        }
      ]
    },
    {
      "cell_type": "code",
      "metadata": {
        "id": "egs3E4CBbFUh"
      },
      "source": [
        "import tensorflow as tf\n",
        "from tensorflow.keras.models import Sequential\n",
        "from tensorflow.keras.layers import Dense, Dropout, LSTM\n",
        "mnist=tf.keras.datasets.mnist\n",
        "(x_train,y_train),(x_test,y_test)=mnist.load_data()\n",
        "\n",
        "x_train=x_train/255.0\n",
        "x_test=x_test/255.0"
      ],
      "execution_count": null,
      "outputs": []
    },
    {
      "cell_type": "code",
      "metadata": {
        "colab": {
          "base_uri": "https://localhost:8080/"
        },
        "id": "CVwoVNz8sZTp",
        "outputId": "d5555438-55fc-4919-87b3-163555184dd3"
      },
      "source": [
        "len(x_train)"
      ],
      "execution_count": null,
      "outputs": [
        {
          "output_type": "execute_result",
          "data": {
            "text/plain": [
              "60000"
            ]
          },
          "metadata": {},
          "execution_count": 5
        }
      ]
    },
    {
      "cell_type": "code",
      "metadata": {
        "id": "MY8TIy_TgPFG"
      },
      "source": [
        "\n",
        "model=Sequential()\n",
        "model.add(LSTM(128,input_shape=x_train.shape[1:],return_sequences=True))\n",
        "model.add(Dropout(0.2))\n",
        "\n",
        "# model.add(CuDNNLSTM(128,activation='relu'))\n",
        "model.add(LSTM(128))# relu katta not needed as cudnn has its own activation function, look into it\n",
        "model.add(Dropout(0.2))\n",
        "\n",
        "model.add(Dense(32,activation='relu'))\n",
        "model.add(Dropout(0.2))\n",
        "\n",
        "\n",
        "model.add(Dense(10,activation='Softmax'))\n",
        "\n",
        "opt=tf.keras.optimizers.Adam(learning_rate=1e-3,decay=1e-5)\n",
        "\n",
        "#mean_squared_error=mse\n",
        "model.compile(loss='sparse_categorical_crossentropy',optimizer=opt,metrics=['accuracy'])\n",
        "\n",
        "\n"
      ],
      "execution_count": null,
      "outputs": []
    },
    {
      "cell_type": "code",
      "metadata": {
        "colab": {
          "base_uri": "https://localhost:8080/"
        },
        "id": "tjFuOk7VgT1N",
        "outputId": "138afbaf-08be-483e-ebcd-11e7d641b4b4"
      },
      "source": [
        "model.fit(x_train,y_train,epochs=3,validation_data=(x_test,y_test))"
      ],
      "execution_count": null,
      "outputs": [
        {
          "output_type": "stream",
          "name": "stdout",
          "text": [
            "Epoch 1/3\n",
            "1875/1875 [==============================] - 49s 24ms/step - loss: 0.4040 - accuracy: 0.8779 - val_loss: 0.1155 - val_accuracy: 0.9668\n",
            "Epoch 2/3\n",
            "1875/1875 [==============================] - 43s 23ms/step - loss: 0.1253 - accuracy: 0.9671 - val_loss: 0.1015 - val_accuracy: 0.9713\n",
            "Epoch 3/3\n",
            "1875/1875 [==============================] - 43s 23ms/step - loss: 0.0906 - accuracy: 0.9760 - val_loss: 0.0830 - val_accuracy: 0.9765\n"
          ]
        },
        {
          "output_type": "execute_result",
          "data": {
            "text/plain": [
              "<keras.callbacks.History at 0x7f15c8b5efd0>"
            ]
          },
          "metadata": {},
          "execution_count": 12
        }
      ]
    },
    {
      "cell_type": "code",
      "metadata": {
        "id": "_FU15C8FpRgG"
      },
      "source": [
        ""
      ],
      "execution_count": null,
      "outputs": []
    }
  ]
}